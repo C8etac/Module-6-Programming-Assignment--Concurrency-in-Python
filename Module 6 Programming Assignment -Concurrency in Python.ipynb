{
 "cells": [
  {
   "cell_type": "markdown",
   "id": "764d2447-6b1f-4f4e-af6e-1050d630a80f",
   "metadata": {},
   "source": [
    "13.1 Write the current date as a string to the text file today.txt."
   ]
  },
  {
   "cell_type": "code",
   "execution_count": 23,
   "id": "08638ae1-28e3-48cf-9091-86ed3fe43f52",
   "metadata": {},
   "outputs": [],
   "source": [
    "from datetime import date\n",
    "current_date = date.today()\n",
    "date_str = now.isoformat()\n",
    "with open('today', 'wt') as output:\n",
    "    print(date_str, file=output)"
   ]
  },
  {
   "cell_type": "markdown",
   "id": "2f8c2717-121e-4bb6-87f2-4690bcbe47d0",
   "metadata": {},
   "source": [
    "13.2 Read the text file today.txt into the string today_string."
   ]
  },
  {
   "cell_type": "code",
   "execution_count": 26,
   "id": "d5baac2d-8d87-4079-8ed7-f5746e021de4",
   "metadata": {},
   "outputs": [
    {
     "data": {
      "text/plain": [
       "'2024-11-26\\n'"
      ]
     },
     "execution_count": 26,
     "metadata": {},
     "output_type": "execute_result"
    }
   ],
   "source": [
    "with open('today', 'rt') as input:\n",
    "    today_string = input.read()\n",
    "\n",
    "today_string"
   ]
  },
  {
   "cell_type": "markdown",
   "id": "c00f5a1d-ec2f-43c1-9f31-10278c970610",
   "metadata": {},
   "source": [
    "13.3 Parse the date from today_string."
   ]
  },
  {
   "cell_type": "code",
   "execution_count": 29,
   "id": "69a90a4f-74a8-4d9f-8754-f5b067da7656",
   "metadata": {},
   "outputs": [
    {
     "data": {
      "text/plain": [
       "datetime.datetime(2024, 11, 26, 0, 0)"
      ]
     },
     "execution_count": 29,
     "metadata": {},
     "output_type": "execute_result"
    }
   ],
   "source": [
    "fmt = '%Y-%m-%d\\n'\n",
    "parsed_date = datetime.strptime(today_string, fmt)\n",
    "\n",
    "parsed_date"
   ]
  },
  {
   "cell_type": "markdown",
   "id": "c669b241-d9e2-4f77-8e87-83d7000f923d",
   "metadata": {},
   "source": [
    "15.1 Use multiprocessing to create three separate processes. Make each one wait a random number of seconds between zero and one, print the current time, and then exit."
   ]
  },
  {
   "cell_type": "code",
   "execution_count": 60,
   "id": "360746e7-c85b-4f5b-9a43-1b7d5035f27f",
   "metadata": {},
   "outputs": [
    {
     "name": "stdout",
     "output_type": "stream",
     "text": [
      "All processes have completed.\n"
     ]
    }
   ],
   "source": [
    "import multiprocessing\n",
    "\n",
    "def now(seconds):\n",
    "    from datetime import datetime\n",
    "    from time import sleep\n",
    "    sleep(seconds)\n",
    "    print('wait', seconds, 'seconds, time is', datetime.utcnow())\n",
    "\n",
    "if __name__ == '__main__':\n",
    "    import random\n",
    "    for n in range(3):\n",
    "        seconds = random.random()\n",
    "        proc = multiprocessing.Process(target=now, args=(seconds,))\n",
    "        proc.start()\n",
    "\n",
    "    print(\"All processes have completed.\")"
   ]
  },
  {
   "cell_type": "code",
   "execution_count": null,
   "id": "768a2e2a-1f80-42ec-8e7d-30c1926dcbdc",
   "metadata": {},
   "outputs": [],
   "source": []
  }
 ],
 "metadata": {
  "kernelspec": {
   "display_name": "Python 3 (ipykernel)",
   "language": "python",
   "name": "python3"
  },
  "language_info": {
   "codemirror_mode": {
    "name": "ipython",
    "version": 3
   },
   "file_extension": ".py",
   "mimetype": "text/x-python",
   "name": "python",
   "nbconvert_exporter": "python",
   "pygments_lexer": "ipython3",
   "version": "3.12.4"
  }
 },
 "nbformat": 4,
 "nbformat_minor": 5
}
